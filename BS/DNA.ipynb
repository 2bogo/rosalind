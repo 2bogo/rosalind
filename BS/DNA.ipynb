{
 "cells": [
  {
   "cell_type": "markdown",
   "metadata": {},
   "source": [
    "### Problem\n",
    "\n",
    "A string is simply an ordered collection of symbols selected from some alphabet and formed into a word; the length of a string is the number of symbols that it contains.\n",
    "\n",
    "An example of a length 21 DNA string (whose alphabet contains the symbols 'A', 'C', 'G', and 'T') is \"ATGCTTCAGAAAGGTCTTACG.\"\n",
    "\n",
    "Given: A DNA string s of length at most 1000 nt.\n",
    "\n",
    "Return: Four integers (separated by spaces) counting the respective number of times that the symbols 'A', 'C', 'G', and 'T' occur in s.\n"
   ]
  },
  {
   "cell_type": "code",
   "execution_count": 1,
   "metadata": {},
   "outputs": [],
   "source": [
    "def count_nt(seq):\n",
    "    dic = {}\n",
    "    for i in seq:\n",
    "        try:\n",
    "            dic[i] += 1\n",
    "        except KeyError:\n",
    "            dic[i] = 1\n",
    "    return dic"
   ]
  },
  {
   "cell_type": "code",
   "execution_count": 6,
   "metadata": {},
   "outputs": [],
   "source": [
    "seq = \"TATCCTGTCCGCCCATACCCAAGGTCGGCATCCATTTACCTTTCGTCGTCTGATGCAGGCTAGCAACTACGCACGTGATTAAAGTCCTGAAGTTTGGTGAAGCGGATCTGCGCAGATCCAGAGGCCTCTGGTAAAATTCGTGCTGCCTATCCTCGTGTCACCGAATTTATGCATATCATAGCGTACGGTAAGAACCGTTCATGTGTTAGAGGGTTCTATACGTATAGGGTCGGCCTAAAGCCTTCCGCCTTGGGAAGGTGAACGCAGTTCCGGGCCAGCGTTGTTCATAAAGTCCACTATGCGTATGGCATCTGGAACCGGTCGGTTTCTGTAATTATACGTGATCTTATTGAAAAAAGTTTTCTTTGCCCAACCACACCTCAGTTCCCAAGTCCTTCCTAGCCGCGTCATAGATAGAGTCATCCGCAAATTATCCTCGAATTTCCAATCGCTCGAACGATGTAATGTATTGGCCCAACCACTTGCCATCCGAGAAGCCCTAGAGTCGTGTGTGTACGCCGGTCCATGATTACGCGAGACATGCAGTCGGTCACGAAGACGTCCGTAAGCCGCGCATACCAGGTGTTGCAACGGCTGTATTTTCATGAGAAACCTGAATGCGCTGCCGTGCATACCCAACCTGCTTTCTGCTCATACGGTGGTCACGCGTGTCTTCCCTTCTGAATCCACGAGGATTGCCCGCTGGAATAACATAGGGGCTGCAGATAGCGACCCTAGAATTTGTCGCGCCAGGTGCGCTCACCGTGCGTTACTGACCGGTGGTACGTTTCGGAAACTTAGGATCCTGAAGAATTCTACTATCACCGAAACGGCGGTGTTAGTGCCGGGACGGTTTAGTATCAGCAGGCGATTAGGTAGGCCATGAGTTCCAGTAGAGTGGCGGAGGGCACGCATAACCACGGACAGCTGAACTAGACGTATGCAA\""
   ]
  },
  {
   "cell_type": "code",
   "execution_count": 7,
   "metadata": {},
   "outputs": [],
   "source": [
    "dic = count_nt(seq)"
   ]
  },
  {
   "cell_type": "code",
   "execution_count": 8,
   "metadata": {},
   "outputs": [
    {
     "name": "stdout",
     "output_type": "stream",
     "text": [
      "222 244 241 239\n"
     ]
    }
   ],
   "source": [
    "print(f\"{dic['A']} {dic['C']} {dic['G']} {dic['T']}\")"
   ]
  },
  {
   "cell_type": "code",
   "execution_count": null,
   "metadata": {},
   "outputs": [],
   "source": []
  }
 ],
 "metadata": {
  "kernelspec": {
   "display_name": "Python 3",
   "language": "python",
   "name": "python3"
  },
  "language_info": {
   "codemirror_mode": {
    "name": "ipython",
    "version": 3
   },
   "file_extension": ".py",
   "mimetype": "text/x-python",
   "name": "python",
   "nbconvert_exporter": "python",
   "pygments_lexer": "ipython3",
   "version": "3.12.1"
  }
 },
 "nbformat": 4,
 "nbformat_minor": 2
}
