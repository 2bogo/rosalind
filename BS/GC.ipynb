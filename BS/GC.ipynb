{
 "cells": [
  {
   "cell_type": "code",
   "execution_count": 16,
   "metadata": {},
   "outputs": [],
   "source": [
    "def count_gc_content(seq):\n",
    "    seq = seq.upper()\n",
    "    return (seq.count(\"C\") + seq.count(\"G\")) / len(seq) * 100"
   ]
  },
  {
   "cell_type": "code",
   "execution_count": 12,
   "metadata": {},
   "outputs": [],
   "source": [
    "def read_fasta_to_dict(fasta):\n",
    "    f = open(fasta).read()\n",
    "    lines = f.split(\">\")\n",
    "    dic_fa = {}\n",
    "    for l in lines[1:]:\n",
    "        header = l.split(\"\\n\")[0]\n",
    "        seq = \"\".join(l.split(\"\\n\")[1:])\n",
    "        dic_fa[header] = count_gc_content(seq)\n",
    "    return dic_fa"
   ]
  },
  {
   "cell_type": "code",
   "execution_count": 10,
   "metadata": {},
   "outputs": [],
   "source": [
    "def select_max_gc_read(fasta):\n",
    "    dic = read_fasta_to_dict(fasta)\n",
    "    max_gc_read = max(dic, key=dic.get)\n",
    "\n",
    "    return [max_gc_read, dic[max_gc_read]]"
   ]
  },
  {
   "cell_type": "code",
   "execution_count": 17,
   "metadata": {},
   "outputs": [
    {
     "data": {
      "text/plain": [
       "['Rosalind_5053', 53.696098562628336]"
      ]
     },
     "execution_count": 17,
     "metadata": {},
     "output_type": "execute_result"
    }
   ],
   "source": [
    "select_max_gc_read(\"input/rosalind_gc-3.txt\")"
   ]
  },
  {
   "cell_type": "code",
   "execution_count": null,
   "metadata": {},
   "outputs": [],
   "source": []
  }
 ],
 "metadata": {
  "kernelspec": {
   "display_name": "Python 3",
   "language": "python",
   "name": "python3"
  },
  "language_info": {
   "codemirror_mode": {
    "name": "ipython",
    "version": 3
   },
   "file_extension": ".py",
   "mimetype": "text/x-python",
   "name": "python",
   "nbconvert_exporter": "python",
   "pygments_lexer": "ipython3",
   "version": "3.11.6"
  }
 },
 "nbformat": 4,
 "nbformat_minor": 2
}
