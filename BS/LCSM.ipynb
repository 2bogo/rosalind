{
 "cells": [
  {
   "cell_type": "code",
   "execution_count": 55,
   "metadata": {},
   "outputs": [],
   "source": [
    "f = open(\"input/rosalind_lcsm.txt\").read()\n",
    "lines = f.split(\">\")[1:]\n",
    "\n",
    "seq_list = [\"\".join(l.split(\"\\n\")[1:]) for l in lines]"
   ]
  },
  {
   "cell_type": "code",
   "execution_count": 56,
   "metadata": {},
   "outputs": [],
   "source": [
    "num_string = len(seq_list[0])\n",
    "pattern = \"\"\n",
    "while num_string > 0:\n",
    "    for i in range(len(seq_list[0]) - num_string + 1):\n",
    "        query = seq_list[0][i : i + num_string]\n",
    "        find_pattern = set(\n",
    "            [True if seq.find(query) != -1 else False for seq in seq_list]\n",
    "        )\n",
    "        if find_pattern == set([True]):\n",
    "            pattern = query\n",
    "            break\n",
    "        else:\n",
    "            continue\n",
    "    if pattern != \"\":\n",
    "        break\n",
    "    num_string -= 1"
   ]
  },
  {
   "cell_type": "code",
   "execution_count": 57,
   "metadata": {},
   "outputs": [
    {
     "name": "stdout",
     "output_type": "stream",
     "text": [
      "TGGGTAGGTTTCATTTCCTACATGTGCCCGCTATTTAGCAACACCGACCGCATGGCGCCAGGCGCCCTGTTGGGCGGGGTTCGGCAGCTCGCGATTACCGCAACCGATCGAAAGCTATTACGGCCTTCTGTGCCTCATCATGCGTATCTTCTGCAAGTGCAAGAACTATAGGGCTGCCCACATGCGTCACCCCCTAGCCGTACTCCTTGCTTCAGCGTAATAGAGAATTCCGACATAATAGGCTAAGTTAGGTCGTTATTGTCTGCGACGTCAAACACCCGCT\n"
     ]
    }
   ],
   "source": [
    "print(pattern)"
   ]
  },
  {
   "cell_type": "markdown",
   "metadata": {},
   "source": [
    "### ChatGPT 풀이 훨씬 빠른듯...\n"
   ]
  },
  {
   "cell_type": "code",
   "execution_count": 58,
   "metadata": {},
   "outputs": [],
   "source": [
    "def longest_common_substring(dna_strings):\n",
    "    if not dna_strings:\n",
    "        return \"\"\n",
    "\n",
    "    # Find the shortest string in the list\n",
    "    shortest_str = min(dna_strings, key=len)\n",
    "\n",
    "    # Check substrings from the longest to shortest\n",
    "    for length in range(len(shortest_str), 0, -1):\n",
    "        for start in range(len(shortest_str) - length + 1):\n",
    "            substr = shortest_str[start : start + length]\n",
    "            if all(substr in dna for dna in dna_strings):\n",
    "                return substr\n",
    "\n",
    "    return \"\""
   ]
  },
  {
   "cell_type": "code",
   "execution_count": 59,
   "metadata": {},
   "outputs": [
    {
     "data": {
      "text/plain": [
       "'TGGGTAGGTTTCATTTCCTACATGTGCCCGCTATTTAGCAACACCGACCGCATGGCGCCAGGCGCCCTGTTGGGCGGGGTTCGGCAGCTCGCGATTACCGCAACCGATCGAAAGCTATTACGGCCTTCTGTGCCTCATCATGCGTATCTTCTGCAAGTGCAAGAACTATAGGGCTGCCCACATGCGTCACCCCCTAGCCGTACTCCTTGCTTCAGCGTAATAGAGAATTCCGACATAATAGGCTAAGTTAGGTCGTTATTGTCTGCGACGTCAAACACCCGCT'"
      ]
     },
     "execution_count": 59,
     "metadata": {},
     "output_type": "execute_result"
    }
   ],
   "source": [
    "longest_common_substring(seq_list)"
   ]
  }
 ],
 "metadata": {
  "kernelspec": {
   "display_name": "venv",
   "language": "python",
   "name": "python3"
  },
  "language_info": {
   "codemirror_mode": {
    "name": "ipython",
    "version": 3
   },
   "file_extension": ".py",
   "mimetype": "text/x-python",
   "name": "python",
   "nbconvert_exporter": "python",
   "pygments_lexer": "ipython3",
   "version": "3.12.1"
  }
 },
 "nbformat": 4,
 "nbformat_minor": 2
}
