{
 "cells": [
  {
   "cell_type": "markdown",
   "metadata": {},
   "source": [
    "- Given: A protein string of length at most 1000 aa.\n",
    "\n",
    "- Return: The total number of different RNA strings from which the protein could have been translated, modulo 1,000,000. (Don't neglect the importance of the stop codon in protein translation.)\n"
   ]
  },
  {
   "cell_type": "code",
   "execution_count": 1,
   "metadata": {},
   "outputs": [],
   "source": [
    "codon_table = {\n",
    "    \"F\": [\"UUU\", \"UUC\"],\n",
    "    \"L\": [\"UUA\", \"UUG\", \"CUU\", \"CUC\", \"CUA\", \"CUG\"],\n",
    "    \"I\": [\"AUU\", \"AUC\", \"AUA\"],\n",
    "    \"M\": [\"AUG\"],\n",
    "    \"V\": [\"GUU\", \"GUC\", \"GUA\", \"GUG\"],\n",
    "    \"S\": [\"UCU\", \"UCC\", \"UCA\", \"UCG\", \"AGU\", \"AGC\"],\n",
    "    \"P\": [\"CCU\", \"CCC\", \"CCA\", \"CCG\"],\n",
    "    \"T\": [\"ACU\", \"ACC\", \"ACA\", \"ACG\"],\n",
    "    \"A\": [\"GCU\", \"GCC\", \"GCA\", \"GCG\"],\n",
    "    \"Y\": [\"UAU\", \"UAC\"],\n",
    "    \"H\": [\"CAU\", \"CAC\"],\n",
    "    \"Q\": [\"CAA\", \"CAG\"],\n",
    "    \"N\": [\"AAU\", \"AAC\"],\n",
    "    \"K\": [\"AAA\", \"AAG\"],\n",
    "    \"D\": [\"GAU\", \"GAC\"],\n",
    "    \"E\": [\"GAA\", \"GAG\"],\n",
    "    \"C\": [\"UGU\", \"UGC\"],\n",
    "    \"W\": [\"UGG\"],\n",
    "    \"R\": [\"CGU\", \"CGC\", \"CGA\", \"CGG\", \"AGA\", \"AGG\"],\n",
    "    \"G\": [\"GGU\", \"GGC\", \"GGA\", \"GGG\"],\n",
    "    \"Stop\": [\"UAA\", \"UAG\", \"UGA\"],\n",
    "}"
   ]
  },
  {
   "cell_type": "code",
   "execution_count": 8,
   "metadata": {},
   "outputs": [],
   "source": [
    "prot = \"MCPMYRKGQKWWWFYDNAMQEWVCSTLQLDSHCWQAKRWYNVGNEGFLGFTALGDIGDIIWQACRERISGQAIKEVWIKWKQQVQPQLQVRAYTHTTKFNFYDIIKTIPDRNSKGALERRWWNVATLWHCSQMKGKVSEMYEWSHHEWSYDFGWYKYQNFGYCSQLLFPPHWQMQILQDGCDYPGNSMTGEDNQFLKFYWHPQAHKMFNRNGRDDVCLMVRILYFFKYFDWMYEQTAIATTDSYMDMKHQWGPYLFIVLEPWGYINKDSMISHKSFWEPLGRGNAGMPLCWHTEGKCINYIFRNSKPAKDRIMHIKLMPGDACLLNCRIWEITMFRYLRYQWTKKHPWVIRTRAGWHFAAYDGGKPRALMYKFWRGLHMTKGDSISSYYITTCMEVQFYNPPIEPTRLNWAHYNNGLKYLDTIDTIGGWQAWPPRIMTEVLSNYWLNACYVTPQCVWREAFCNWAQEIETAYSDWVHYVVGPYNDFVYGMNFPARLFSAMMMDVCAPTNQFYQDCAEGRTTYKGWAGWELLPCMIVWIALQDDNPCHENALAKYFYTQIYFHFYNPRPQDFSITARFTLNMCGDEISMKQDTVIQNVQTRRKKEMFQARCNMSRIGHFGCHPWNAKYREWCPPCQSYRFPVVGEFHNQLVQKCFICYKGCHASLMRHKFNKCHLQACTCMWNFRNFVPQYGKNKTCAVWYDRIKERYKIMQMGRNRHHMSFGAPFVLFDWYNLEKNDNLNAHYGHIPHPFWTVCRMSDLHFNFAIESQPYLPFHVMDRITNPKVHYEGDRQNAKWMGNAMFHMIHTPTGMILTQGMPVMVQDKQTQKPEAGFLEHFDEHFEMNQKQQNPIESMMNSFSSIFNTGNCCVIHDSMDVEYMLIAQWYCMWLILWKQARFLLDVYGFDYNLFCVPEKGAICMSIPRTGFFYAPSVDGPQNVWRRHKVKRCYEPFLKSTQSARDGYPPIQIVPMQQILDKQQPYICPWLYKAYWIIEFVASPVL\""
   ]
  },
  {
   "cell_type": "code",
   "execution_count": 10,
   "metadata": {},
   "outputs": [
    {
     "data": {
      "text/plain": [
       "5056"
      ]
     },
     "execution_count": 10,
     "metadata": {},
     "output_type": "execute_result"
    }
   ],
   "source": [
    "from functools import reduce\n",
    "\n",
    "reduce(lambda x, y: x * y, [len(codon_table[i]) for i in prot], 1) * 3 % 1000000"
   ]
  },
  {
   "cell_type": "code",
   "execution_count": null,
   "metadata": {},
   "outputs": [],
   "source": []
  }
 ],
 "metadata": {
  "kernelspec": {
   "display_name": "Python 3",
   "language": "python",
   "name": "python3"
  },
  "language_info": {
   "codemirror_mode": {
    "name": "ipython",
    "version": 3
   },
   "file_extension": ".py",
   "mimetype": "text/x-python",
   "name": "python",
   "nbconvert_exporter": "python",
   "pygments_lexer": "ipython3",
   "version": "3.12.1"
  }
 },
 "nbformat": 4,
 "nbformat_minor": 2
}
