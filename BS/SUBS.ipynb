{
 "cells": [
  {
   "cell_type": "markdown",
   "metadata": {},
   "source": [
    "Given two strings s and t, t is a substring of s if t is contained as a contiguous collection of symbols in s (as a result, t must be no longer than s).\n",
    "\n",
    "The position of a symbol in a string is the total number of symbols found to its left, including itself (e.g., the positions of all occurrences of 'U' in \"AUGCUUCAGAAAGGUCUUACG\" are 2, 5, 6, 15, 17, and 18). The symbol at position i of s is denoted by s[i].\n",
    "\n",
    "A substring of s can be represented as s[j:k], where j and k represent the starting and ending positions of the substring in s; for example, if s = \"AUGCUUCAGAAAGGUCUUACG\", then s[2:5] = \"UGCU\".\n",
    "\n",
    "The location of a substring s[j:k] is its beginning position j; note that t will have multiple locations in s if it occurs more than once as a substring of s (see the Sample below).\n",
    "\n",
    "Given: Two DNA strings s and t (each of length at most 1 kbp).\n",
    "\n",
    "Return: All locations of t as a substring of s.\n"
   ]
  },
  {
   "cell_type": "code",
   "execution_count": 34,
   "metadata": {},
   "outputs": [],
   "source": [
    "s = \"GGCCCTAGAAGGCCCTATACATGTGGCGGTCGGGCCCTAGGCCCTATGTTATAGAACGGCCCTACTTTACGCAAGATAGGGCCCTATTGGCCCTACGAGTAAAGGGTCCCAGGCCCTATTAAGTTTTCTGGCCCTAAGGCCCTAAGGCCCTAAGGCCCTAGGCCCTAAGAGGGCCCTACGGCCCTAGGCCCTACATGGCCCTACACGGCCCTAGGCCCTAGGGACTGGCCCTACTGGGCCCTATGGCCCTAGGCCCTAGGCCCTATTCTGGCCCTAAGGCCCTATACGGGCCCTAGGCCCTAGGCCCTATGGGCCCTAGGGGCCCTAAGGCCCTACATGGCCCTAGGCCCTATGGCCCTAGGCCCTAGGGCCCTAACGAGGCCCTAGGAGGCCCTACTGGCCCTACGGCCCTAGGCCCTAGGCCCTAGGGCCCTATCGGTGGCCCTATGGGGCCCTAACGGCCCTACGCGATCCTGGCCCTAGAGCGGCCCTATTATGGCCCTACGGCCCTAAAGGGCCCTAATGGGCCCTACAGGCCCTACCGGCCCTAACTGGCCCTATCGGCCCTAGAGGCCCTACCCCAGGCCCTAGGCCCTAAAGAGGCCCTAATGGCCCTATGTAACGGCCCTAGGCCCTAGGCCCTAATCGGCCCTAAGGCCCTAGGGCCCTATAAGGCCCTATGGCCCTACCGGCCCTAGGCCCTAAGGCCCTATGGCCCTATCAGGGCCCTAGGCCCTACTCGCGGCCCTAGTGGCCCTAAGGCCCTATTGGCCCTAAGGCCCTACGGTGGCCCTACGGGCCCTAGGCCCTAGCCCACTTGGCCCTAGTCGGCCCTAGGCCCTAGAAGGCCCTAAGGCCCTAAACTTATGGCCCTAAGGCCCTAAACGGCCCTA\"\n",
    "t = \"GGCCCTAGG\""
   ]
  },
  {
   "cell_type": "code",
   "execution_count": 32,
   "metadata": {},
   "outputs": [],
   "source": [
    "def find_substring_position(s, t):\n",
    "    split_seq = [s[i : i + len(t)] for i in range(len(s) - len(t) + 1)]\n",
    "    ix = [i for i, seq in enumerate(split_seq) if seq == t]\n",
    "\n",
    "    return list(map(lambda x: x + 1, ix))"
   ]
  },
  {
   "cell_type": "code",
   "execution_count": 37,
   "metadata": {},
   "outputs": [
    {
     "data": {
      "text/plain": [
       "'33 154 180 207 214 245 252 289 296 312 339 354 361 380 407 414 421 584 624 631 656 691 725 798 830'"
      ]
     },
     "execution_count": 37,
     "metadata": {},
     "output_type": "execute_result"
    }
   ],
   "source": [
    "\" \".join(list(map(lambda x: str(x), find_substring_position(s, t))))"
   ]
  },
  {
   "cell_type": "code",
   "execution_count": null,
   "metadata": {},
   "outputs": [],
   "source": []
  }
 ],
 "metadata": {
  "kernelspec": {
   "display_name": "Python 3",
   "language": "python",
   "name": "python3"
  },
  "language_info": {
   "codemirror_mode": {
    "name": "ipython",
    "version": 3
   },
   "file_extension": ".py",
   "mimetype": "text/x-python",
   "name": "python",
   "nbconvert_exporter": "python",
   "pygments_lexer": "ipython3",
   "version": "3.11.6"
  }
 },
 "nbformat": 4,
 "nbformat_minor": 2
}
