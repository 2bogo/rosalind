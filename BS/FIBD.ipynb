{
 "cells": [
  {
   "cell_type": "code",
   "execution_count": 11,
   "metadata": {},
   "outputs": [],
   "source": [
    "# Fn-died_month 를 빼자... 태어난 토끼 페어 list화\n",
    "\n",
    "\n",
    "def find_pairs(month, died_month):\n",
    "    pairs_count_list = [1]\n",
    "    born_list = [1]\n",
    "    for i in range(1, month):\n",
    "        if i - 2 < 0:\n",
    "            born = 0\n",
    "        else:\n",
    "            born = pairs_count_list[i - 2]\n",
    "            born_list.append(born)\n",
    "\n",
    "        if i - died_month < 0:\n",
    "            died = 0\n",
    "        else:\n",
    "            died = born_list[i - died_month]\n",
    "        current = pairs_count_list[i - 1] + born - died\n",
    "        pairs_count_list.append(current)\n",
    "    return pairs_count_list[-1]"
   ]
  },
  {
   "cell_type": "code",
   "execution_count": 13,
   "metadata": {},
   "outputs": [
    {
     "data": {
      "text/plain": [
       "7421846405052662928"
      ]
     },
     "execution_count": 13,
     "metadata": {},
     "output_type": "execute_result"
    }
   ],
   "source": [
    "find_pairs(92, 16)"
   ]
  },
  {
   "cell_type": "code",
   "execution_count": null,
   "metadata": {},
   "outputs": [],
   "source": []
  }
 ],
 "metadata": {
  "kernelspec": {
   "display_name": "Python 3",
   "language": "python",
   "name": "python3"
  },
  "language_info": {
   "codemirror_mode": {
    "name": "ipython",
    "version": 3
   },
   "file_extension": ".py",
   "mimetype": "text/x-python",
   "name": "python",
   "nbconvert_exporter": "python",
   "pygments_lexer": "ipython3",
   "version": "3.12.1"
  }
 },
 "nbformat": 4,
 "nbformat_minor": 2
}
