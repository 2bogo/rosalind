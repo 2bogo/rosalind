{
 "cells": [
  {
   "cell_type": "markdown",
   "metadata": {},
   "source": [
    "# Problem\n",
    "\n",
    "A sequence is an ordered collection of objects (usually numbers), which are allowed to repeat. Sequences can be finite or infinite. Two examples are the finite sequence (π,−2‾√,0,π) and the infinite sequence of odd numbers (1,3,5,7,9,…). We use the notation an to represent the n-th term of a sequence.\n",
    "\n",
    "A recurrence relation is a way of defining the terms of a sequence with respect to the values of previous terms. In the case of Fibonacci's rabbits from the introduction, any given month will contain the rabbits that were alive the previous month, plus any new offspring. A key observation is that the number of offspring in any month is equal to the number of rabbits that were alive two months prior. As a result, if Fn represents the number of rabbit pairs alive after the n-th month, then we obtain the Fibonacci sequence having terms Fn that are defined by the recurrence relation Fn=Fn−1+Fn−2 (with F1=F2=1 to initiate the sequence). Although the sequence bears Fibonacci's name, it was known to Indian mathematicians over two millennia ago.\n",
    "\n",
    "When finding the n-th term of a sequence defined by a recurrence relation, we can simply use the recurrence relation to generate terms for progressively larger values of n. This problem introduces us to the computational technique of dynamic programming, which successively builds up solutions by using the answers to smaller cases.\n",
    "\n",
    "Given: Positive integers n≤40 and k≤5.\n",
    "\n",
    "Return: The total number of rabbit pairs that will be present after n months, if we begin with 1 pair and in each generation, every pair of reproduction-age rabbits produces a litter of k rabbit pairs (instead of only 1 pair).\n"
   ]
  },
  {
   "cell_type": "code",
   "execution_count": 49,
   "metadata": {},
   "outputs": [],
   "source": [
    "# Fn = Fn-1 + Fn-2 * 3\n",
    "\n",
    "\n",
    "def find_pairs(month, num_reproduce_pairs):\n",
    "    pairs_count_list = [1]\n",
    "    for i in range(1, month):\n",
    "        if i - 2 < 0:\n",
    "            born = 0\n",
    "        else:\n",
    "            born = pairs_count_list[i - 2] * num_reproduce_pairs\n",
    "\n",
    "        current = pairs_count_list[i - 1] + born\n",
    "        pairs_count_list.append(current)\n",
    "    return pairs_count_list[-1]"
   ]
  },
  {
   "cell_type": "code",
   "execution_count": 51,
   "metadata": {},
   "outputs": [
    {
     "data": {
      "text/plain": [
       "313507166394911"
      ]
     },
     "execution_count": 51,
     "metadata": {},
     "output_type": "execute_result"
    }
   ],
   "source": [
    "find_pairs(34, 5)"
   ]
  },
  {
   "cell_type": "code",
   "execution_count": null,
   "metadata": {},
   "outputs": [],
   "source": [
    "# ChatGPT 풀이\n",
    "\n",
    "\n",
    "def rabbit_pairs(n, k):\n",
    "    if n == 1 or n == 2:\n",
    "        return 1\n",
    "\n",
    "    rabbits = [0] * (n + 1)\n",
    "    rabbits[1] = 1\n",
    "    rabbits[2] = 1\n",
    "\n",
    "    for i in range(3, n + 1):\n",
    "        rabbits[i] = rabbits[i - 1] + k * rabbits[i - 2]\n",
    "\n",
    "    return rabbits[n]\n",
    "\n",
    "\n",
    "# Example usage:\n",
    "n = 5  # for example, 5 months\n",
    "k = 3  # for example, each pair produces 3 new pairs\n",
    "print(rabbit_pairs(n, k))  # Output should be 19 for these inputs"
   ]
  }
 ],
 "metadata": {
  "kernelspec": {
   "display_name": "Python 3",
   "language": "python",
   "name": "python3"
  },
  "language_info": {
   "codemirror_mode": {
    "name": "ipython",
    "version": 3
   },
   "file_extension": ".py",
   "mimetype": "text/x-python",
   "name": "python",
   "nbconvert_exporter": "python",
   "pygments_lexer": "ipython3",
   "version": "3.12.1"
  }
 },
 "nbformat": 4,
 "nbformat_minor": 2
}
