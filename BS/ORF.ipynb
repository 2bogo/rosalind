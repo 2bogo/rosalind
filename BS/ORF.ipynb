{
 "cells": [
  {
   "cell_type": "markdown",
   "metadata": {},
   "source": [
    "# Open Reading Frames\n",
    "\n",
    "- Given: A DNA string s of length at most 1 kbp in FASTA format.\n",
    "\n",
    "- Return: Every distinct candidate protein string that can be translated from ORFs of s. Strings can be returned in any order.\n"
   ]
  },
  {
   "cell_type": "code",
   "execution_count": 3,
   "metadata": {},
   "outputs": [],
   "source": [
    "codon_table = {\n",
    "    \"UUU\": \"F\",\n",
    "    \"UUC\": \"F\",\n",
    "    \"UUA\": \"L\",\n",
    "    \"UUG\": \"L\",\n",
    "    \"UCU\": \"S\",\n",
    "    \"UCC\": \"S\",\n",
    "    \"UCA\": \"S\",\n",
    "    \"UCG\": \"S\",\n",
    "    \"UAU\": \"Y\",\n",
    "    \"UAC\": \"Y\",\n",
    "    \"UAA\": \"STOP\",\n",
    "    \"UAG\": \"STOP\",\n",
    "    \"UGU\": \"C\",\n",
    "    \"UGC\": \"C\",\n",
    "    \"UGA\": \"STOP\",\n",
    "    \"UGG\": \"W\",\n",
    "    \"CUU\": \"L\",\n",
    "    \"CUC\": \"L\",\n",
    "    \"CUA\": \"L\",\n",
    "    \"CUG\": \"L\",\n",
    "    \"CCU\": \"P\",\n",
    "    \"CCC\": \"P\",\n",
    "    \"CCA\": \"P\",\n",
    "    \"CCG\": \"P\",\n",
    "    \"CAU\": \"H\",\n",
    "    \"CAC\": \"H\",\n",
    "    \"CAA\": \"Q\",\n",
    "    \"CAG\": \"Q\",\n",
    "    \"CGU\": \"R\",\n",
    "    \"CGC\": \"R\",\n",
    "    \"CGA\": \"R\",\n",
    "    \"CGG\": \"R\",\n",
    "    \"AUU\": \"I\",\n",
    "    \"AUC\": \"I\",\n",
    "    \"AUA\": \"I\",\n",
    "    \"AUG\": \"M\",\n",
    "    \"ACU\": \"T\",\n",
    "    \"ACC\": \"T\",\n",
    "    \"ACA\": \"T\",\n",
    "    \"ACG\": \"T\",\n",
    "    \"AAU\": \"N\",\n",
    "    \"AAC\": \"N\",\n",
    "    \"AAA\": \"K\",\n",
    "    \"AAG\": \"K\",\n",
    "    \"AGU\": \"S\",\n",
    "    \"AGC\": \"S\",\n",
    "    \"AGA\": \"R\",\n",
    "    \"AGG\": \"R\",\n",
    "    \"GUU\": \"V\",\n",
    "    \"GUC\": \"V\",\n",
    "    \"GUA\": \"V\",\n",
    "    \"GUG\": \"V\",\n",
    "    \"GCU\": \"A\",\n",
    "    \"GCC\": \"A\",\n",
    "    \"GCA\": \"A\",\n",
    "    \"GCG\": \"A\",\n",
    "    \"GAU\": \"D\",\n",
    "    \"GAC\": \"D\",\n",
    "    \"GAA\": \"E\",\n",
    "    \"GAG\": \"E\",\n",
    "    \"GGU\": \"G\",\n",
    "    \"GGC\": \"G\",\n",
    "    \"GGA\": \"G\",\n",
    "    \"GGG\": \"G\",\n",
    "}"
   ]
  },
  {
   "cell_type": "code",
   "execution_count": 40,
   "metadata": {},
   "outputs": [],
   "source": [
    "f = open(\"./input/rosalind_orf.txt\").read()\n",
    "seq = \"\".join(\"\".join(f.split(\">\")[1:]).split(\"\\n\")[1:])\n",
    "\n",
    "fwd_seq = seq.replace(\"T\", \"U\")\n",
    "rev_seq = fwd_seq[::-1].translate(str.maketrans(\"AUGCN\", \"UACGN\"))"
   ]
  },
  {
   "cell_type": "code",
   "execution_count": 41,
   "metadata": {},
   "outputs": [],
   "source": [
    "def find_codon(seq):\n",
    "    start_point = 0\n",
    "    codon_list = []\n",
    "    while True:\n",
    "        query_seq = seq[start_point:]\n",
    "        ix = query_seq.find(\"AUG\")\n",
    "        if ix != -1:\n",
    "            codon = \"\"\n",
    "            codon_candidate_seq = query_seq[ix:]\n",
    "            for i in range(len(codon_candidate_seq) // 3):\n",
    "                dna = codon_candidate_seq[i * 3 : i * 3 + 3]\n",
    "                if codon_table[dna] != \"STOP\":\n",
    "                    codon += codon_table[dna]\n",
    "                else:\n",
    "                    end_point = i\n",
    "                    codon_list.append(codon)\n",
    "                    break\n",
    "            start_point += ix + 1\n",
    "        else:\n",
    "            break\n",
    "    return codon_list"
   ]
  },
  {
   "cell_type": "code",
   "execution_count": 43,
   "metadata": {},
   "outputs": [
    {
     "name": "stdout",
     "output_type": "stream",
     "text": [
      "MSCAVRCRSVHMIS\n",
      "MTLYRYRFGEESVKSRLLLATLAWVFHILAVCTIITQVL\n",
      "MKGPRSLELSIWFDLVLTRV\n",
      "MVRAQLKL\n",
      "MGANARSDAGLFT\n",
      "MPIA\n",
      "MKQSSPRNTWKVYPARKYVSLTSMVISERGL\n",
      "MKDYP\n",
      "MLSSFE\n",
      "MLSSRLRGPFIP\n",
      "MSRMPIA\n",
      "M\n",
      "MRGQMPVCSHD\n",
      "MQASSHDLVSVQVWRRECQIASSTCDFSVGLPYTCGLHDNNASAIALVAPGPSQYVS\n",
      "MPVCSHD\n",
      "MIS\n",
      "MTGR\n",
      "MTEVVLTVDLIC\n",
      "MEVCTRAQ\n",
      "MEDPR\n",
      "MTFDGFTAPECKLP\n",
      "MRHALLEFQCRLLHMTLYRYRFGEESVKSRLLLATLAWVFHILAVCTIITQVL\n",
      "MV\n",
      "MVISERGL\n",
      "MRC\n",
      "MVRHSPQVKPRVMRHALLEFQCRLLHMTLYRYRFGEESVKSRLLLATLAWVFHILAVCTIITQVL\n",
      "MADDILDTSDSAESTSI\n"
     ]
    }
   ],
   "source": [
    "print(\"\\n\".join(set(find_codon(rev_seq) + find_codon(fwd_seq))))"
   ]
  },
  {
   "cell_type": "code",
   "execution_count": null,
   "metadata": {},
   "outputs": [],
   "source": []
  }
 ],
 "metadata": {
  "kernelspec": {
   "display_name": "Python 3",
   "language": "python",
   "name": "python3"
  },
  "language_info": {
   "codemirror_mode": {
    "name": "ipython",
    "version": 3
   },
   "file_extension": ".py",
   "mimetype": "text/x-python",
   "name": "python",
   "nbconvert_exporter": "python",
   "pygments_lexer": "ipython3",
   "version": "3.12.1"
  }
 },
 "nbformat": 4,
 "nbformat_minor": 2
}
