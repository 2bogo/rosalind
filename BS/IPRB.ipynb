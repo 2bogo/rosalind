{
 "cells": [
  {
   "cell_type": "markdown",
   "metadata": {},
   "source": [
    "Probability is the mathematical study of randomly occurring phenomena. We will model such a phenomenon with a random variable, which is simply a variable that can take a number of different distinct outcomes depending on the result of an underlying random process.\n",
    "\n",
    "For example, say that we have a bag containing 3 red balls and 2 blue balls. If we let X represent the random variable corresponding to the color of a drawn ball, then the probability of each of the two outcomes is given by Pr(X=red)=35 and Pr(X=blue)=25.\n",
    "\n",
    "Random variables can be combined to yield new random variables. Returning to the ball example, let Y model the color of a second ball drawn from the bag (without replacing the first ball). The probability of Y being red depends on whether the first ball was red or blue. To represent all outcomes of X and Y, we therefore use a probability tree diagram. This branching diagram represents all possible individual probabilities for X and Y, with outcomes at the endpoints (\"leaves\") of the tree. The probability of any outcome is given by the product of probabilities along the path from the beginning of the tree; see Figure 2 for an illustrative example.\n",
    "\n",
    "An event is simply a collection of outcomes. Because outcomes are distinct, the probability of an event can be written as the sum of the probabilities of its constituent outcomes. For our colored ball example, let A be the event \"Y is blue.\" Pr(A) is equal to the sum of the probabilities of two different outcomes: Pr(X=blue and Y=blue)+Pr(X=red and Y=blue), or 310+110=25 (see Figure 2 above).\n",
    "\n",
    "Given: Three positive integers k, m, and n, representing a population containing k+m+n organisms: k individuals are homozygous dominant for a factor, m are heterozygous, and n are homozygous recessive.\n",
    "\n",
    "Return: The probability that two randomly selected mating organisms will produce an individual possessing a dominant allele (and thus displaying the dominant phenotype). Assume that any two organisms can mate.\n"
   ]
  },
  {
   "cell_type": "code",
   "execution_count": 8,
   "metadata": {},
   "outputs": [],
   "source": [
    "def factorial(n):\n",
    "    if n == 0:\n",
    "        return 1\n",
    "    else:\n",
    "        return n * factorial(n - 1)\n",
    "\n",
    "\n",
    "def combination(n, r):\n",
    "    if n > 1:\n",
    "        return factorial(n) // (factorial(r) * factorial(n - r))\n",
    "    else:\n",
    "        return 0"
   ]
  },
  {
   "cell_type": "code",
   "execution_count": 29,
   "metadata": {},
   "outputs": [],
   "source": [
    "def mendel_probability(k, m, n):\n",
    "    total = combination(k + m + n, 2)\n",
    "    return (\n",
    "        (combination(k, 2) / total * 1)\n",
    "        + (k * m / total * 1)\n",
    "        + (k * n / total * 1)\n",
    "        + (combination(m, 2) / total * (3 / 4))\n",
    "        + (n * m / total * (1 / 2))\n",
    "        + (combination(n, 2) / total * 0)\n",
    "    )"
   ]
  },
  {
   "cell_type": "code",
   "execution_count": 31,
   "metadata": {},
   "outputs": [
    {
     "data": {
      "text/plain": [
       "0.7677931387608806"
      ]
     },
     "execution_count": 31,
     "metadata": {},
     "output_type": "execute_result"
    }
   ],
   "source": [
    "mendel_probability(18, 29, 16)"
   ]
  },
  {
   "cell_type": "markdown",
   "metadata": {},
   "source": [
    "# ChatGPT 풀이\n"
   ]
  },
  {
   "cell_type": "code",
   "execution_count": 32,
   "metadata": {},
   "outputs": [
    {
     "name": "stdout",
     "output_type": "stream",
     "text": [
      "0.7833333333333333\n"
     ]
    }
   ],
   "source": [
    "def dominant_allele_probability(k, m, n):\n",
    "    # 전체 개체 수\n",
    "    total = k + m + n\n",
    "\n",
    "    # 모든 가능한 짝짓기 조합의 확률\n",
    "    prob_kk = (k / total) * ((k - 1) / (total - 1))\n",
    "    prob_km = (k / total) * (m / (total - 1)) + (m / total) * (k / (total - 1))\n",
    "    prob_kn = (k / total) * (n / (total - 1)) + (n / total) * (k / (total - 1))\n",
    "    prob_mm = (m / total) * ((m - 1) / (total - 1))\n",
    "    prob_mn = (m / total) * (n / (total - 1)) + (n / total) * (m / (total - 1))\n",
    "    prob_nn = (n / total) * ((n - 1) / (total - 1))\n",
    "\n",
    "    # 각 짝짓기 조합에서 우성 대립유전자를 가진 자손이 태어날 확률\n",
    "    prob_dominant_kk = 1\n",
    "    prob_dominant_km = 1\n",
    "    prob_dominant_kn = 1\n",
    "    prob_dominant_mm = 0.75\n",
    "    prob_dominant_mn = 0.5\n",
    "    prob_dominant_nn = 0\n",
    "\n",
    "    # 각 조합의 확률과 우성 자손 확률을 곱하여 총 확률 계산\n",
    "    total_prob = (\n",
    "        prob_kk * prob_dominant_kk\n",
    "        + prob_km * prob_dominant_km\n",
    "        + prob_kn * prob_dominant_kn\n",
    "        + prob_mm * prob_dominant_mm\n",
    "        + prob_mn * prob_dominant_mn\n",
    "        + prob_nn * prob_dominant_nn\n",
    "    )\n",
    "\n",
    "    return total_prob\n",
    "\n",
    "\n",
    "# 예제 실행\n",
    "k = 2  # 우성 동형접합 개체 수\n",
    "m = 2  # 이형접합 개체 수\n",
    "n = 2  # 열성 동형접합 개체 수\n",
    "\n",
    "print(dominant_allele_probability(k, m, n))"
   ]
  },
  {
   "cell_type": "code",
   "execution_count": null,
   "metadata": {},
   "outputs": [],
   "source": []
  }
 ],
 "metadata": {
  "kernelspec": {
   "display_name": "Python 3",
   "language": "python",
   "name": "python3"
  },
  "language_info": {
   "codemirror_mode": {
    "name": "ipython",
    "version": 3
   },
   "file_extension": ".py",
   "mimetype": "text/x-python",
   "name": "python",
   "nbconvert_exporter": "python",
   "pygments_lexer": "ipython3",
   "version": "3.11.6"
  }
 },
 "nbformat": 4,
 "nbformat_minor": 2
}
