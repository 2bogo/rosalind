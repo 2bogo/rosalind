{
 "cells": [
  {
   "cell_type": "code",
   "execution_count": 14,
   "metadata": {},
   "outputs": [],
   "source": [
    "# 연결 고리 확인\n",
    "\n",
    "f = open(\"input/rosalind_grph.txt\").read()\n",
    "lines = f.split(\">\")[1:]\n",
    "\n",
    "dic_fa = {}\n",
    "for l in lines:\n",
    "    header = l.split(\"\\n\")[0]\n",
    "    seq = \"\".join(l.split(\"\\n\")[1:])\n",
    "    dic_fa[header] = seq"
   ]
  },
  {
   "cell_type": "code",
   "execution_count": 16,
   "metadata": {},
   "outputs": [],
   "source": [
    "connect_list = []\n",
    "for k in dic_fa.keys():\n",
    "    for k2 in dic_fa.keys():\n",
    "        if k != k2:\n",
    "            if dic_fa[k][-3:] == dic_fa[k2][:3]:\n",
    "                connect_list.append(\" \".join([k, k2]))\n",
    "            else:\n",
    "                pass\n",
    "        else:\n",
    "            pass"
   ]
  },
  {
   "cell_type": "code",
   "execution_count": null,
   "metadata": {},
   "outputs": [],
   "source": [
    "print(\"\\n\".join(connect_list))"
   ]
  },
  {
   "cell_type": "code",
   "execution_count": null,
   "metadata": {},
   "outputs": [],
   "source": []
  }
 ],
 "metadata": {
  "kernelspec": {
   "display_name": "Python 3",
   "language": "python",
   "name": "python3"
  },
  "language_info": {
   "codemirror_mode": {
    "name": "ipython",
    "version": 3
   },
   "file_extension": ".py",
   "mimetype": "text/x-python",
   "name": "python",
   "nbconvert_exporter": "python",
   "pygments_lexer": "ipython3",
   "version": "3.12.1"
  }
 },
 "nbformat": 4,
 "nbformat_minor": 2
}
