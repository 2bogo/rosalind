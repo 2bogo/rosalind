{
 "cells": [
  {
   "cell_type": "markdown",
   "metadata": {},
   "source": [
    "# Locating Restriction Sites\n",
    "\n",
    "Given: A DNA string of length at most 1 kbp in FASTA format.\n",
    "\n",
    "Return: The position and length of every reverse palindrome in the string having length between 4 and 12. You may return these pairs in any order.\n"
   ]
  },
  {
   "cell_type": "code",
   "execution_count": 1,
   "metadata": {},
   "outputs": [],
   "source": [
    "f = open(\"input/rosalind_revp.txt\").read()\n",
    "seq = \"\".join(f.split(\"\\n\")[1:])"
   ]
  },
  {
   "cell_type": "code",
   "execution_count": 2,
   "metadata": {},
   "outputs": [],
   "source": [
    "def translate_rev(seq):\n",
    "    return seq[::-1].translate(str.maketrans(\"ATGCN\", \"TACGN\"))"
   ]
  },
  {
   "cell_type": "code",
   "execution_count": 3,
   "metadata": {},
   "outputs": [],
   "source": [
    "def find_reverse_palindrome(seq):\n",
    "    size_list = list(range(4, 13, 2))\n",
    "    for size in size_list:\n",
    "        for i in range(len(seq) - size + 1):\n",
    "            query_seq = seq[i : i + size]\n",
    "            if query_seq[: int(size / 2)] == translate_rev(query_seq[int(size / 2) :]):\n",
    "                print(i + 1, size)"
   ]
  },
  {
   "cell_type": "code",
   "execution_count": 4,
   "metadata": {},
   "outputs": [
    {
     "name": "stdout",
     "output_type": "stream",
     "text": [
      "1 4\n",
      "2 4\n",
      "42 4\n",
      "61 4\n",
      "69 4\n",
      "118 4\n",
      "142 4\n",
      "161 4\n",
      "174 4\n",
      "181 4\n",
      "198 4\n",
      "199 4\n",
      "224 4\n",
      "229 4\n",
      "260 4\n",
      "282 4\n",
      "293 4\n",
      "332 4\n",
      "415 4\n",
      "426 4\n",
      "433 4\n",
      "442 4\n",
      "464 4\n",
      "476 4\n",
      "477 4\n",
      "493 4\n",
      "494 4\n",
      "502 4\n",
      "516 4\n",
      "535 4\n",
      "544 4\n",
      "556 4\n",
      "595 4\n",
      "614 4\n",
      "624 4\n",
      "625 4\n",
      "645 4\n",
      "656 4\n",
      "671 4\n",
      "676 4\n",
      "762 4\n",
      "766 4\n",
      "767 4\n",
      "780 4\n",
      "792 4\n",
      "855 4\n",
      "883 4\n",
      "41 6\n",
      "68 6\n",
      "141 6\n",
      "160 6\n",
      "228 6\n",
      "292 6\n",
      "441 6\n",
      "501 6\n",
      "534 6\n",
      "594 6\n",
      "644 6\n",
      "675 6\n",
      "761 6\n",
      "854 6\n",
      "40 8\n",
      "140 8\n",
      "159 8\n",
      "227 8\n",
      "440 8\n",
      "674 8\n",
      "39 10\n",
      "139 10\n",
      "226 10\n",
      "439 10\n",
      "438 12\n"
     ]
    }
   ],
   "source": [
    "find_reverse_palindrome(seq)"
   ]
  },
  {
   "cell_type": "code",
   "execution_count": null,
   "metadata": {},
   "outputs": [],
   "source": []
  }
 ],
 "metadata": {
  "kernelspec": {
   "display_name": "Python 3",
   "language": "python",
   "name": "python3"
  },
  "language_info": {
   "codemirror_mode": {
    "name": "ipython",
    "version": 3
   },
   "file_extension": ".py",
   "mimetype": "text/x-python",
   "name": "python",
   "nbconvert_exporter": "python",
   "pygments_lexer": "ipython3",
   "version": "3.12.1"
  }
 },
 "nbformat": 4,
 "nbformat_minor": 2
}
