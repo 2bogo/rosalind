{
 "cells": [
  {
   "cell_type": "markdown",
   "metadata": {},
   "source": [
    "Given: A collection of at most 10 DNA strings of equal length (at most 1 kbp) in FASTA format.\n",
    "\n",
    "Return: A consensus string and profile matrix for the collection. (If several possible consensus strings exist, then you may return any one of them.)"
   ]
  },
  {
   "cell_type": "code",
   "execution_count": 69,
   "metadata": {},
   "outputs": [],
   "source": [
    "f = open(\"input/rosalind_cons.txt\").read()\n",
    "lines = f.split(\">\")\n",
    "\n",
    "seq_list = [\"\".join(l.split(\"\\n\")[1:]) for l in lines[1:]]"
   ]
  },
  {
   "cell_type": "code",
   "execution_count": 71,
   "metadata": {},
   "outputs": [],
   "source": [
    "dic = {\n",
    "    \"A\": [0 for i in range(len(seq_list[0]))],\n",
    "    \"C\": [0 for i in range(len(seq_list[0]))],\n",
    "    \"G\": [0 for i in range(len(seq_list[0]))],\n",
    "    \"T\": [0 for i in range(len(seq_list[0]))],\n",
    "}"
   ]
  },
  {
   "cell_type": "code",
   "execution_count": 72,
   "metadata": {},
   "outputs": [],
   "source": [
    "for i in range(len(seq_list[0])):\n",
    "    for j in seq_list:\n",
    "        dic[j[i]][i] += 1"
   ]
  },
  {
   "cell_type": "code",
   "execution_count": 74,
   "metadata": {},
   "outputs": [],
   "source": [
    "max_seq = \"\"\n",
    "for i in range(len(seq_list[0])):\n",
    "    dic_max = {}\n",
    "    for k in dic.keys():\n",
    "        dic_max[k] = dic[k][i]\n",
    "    max_seq += max(dic_max, key=dic_max.get)"
   ]
  },
  {
   "cell_type": "code",
   "execution_count": 76,
   "metadata": {},
   "outputs": [
    {
     "name": "stdout",
     "output_type": "stream",
     "text": [
      "GATCCCCTATAGGACCATTACCCCGTGTCAATCCTGCTACTACCAGTCCGGATAACGGTAGAAAGACAACAGTATCCGACTATAATCGATGGACGTTGTAATGGCGAATAAGCCGGTCTCAATGGCAACAACATTAAAGATCTCTAGGGGCAAGGGCCAACATGCAAGTCCAAACGTACAGGACGCGTCAAAACTGGATTAACGGCTAAACACGACACTAAACAATACCGGGTGATATCTGAAGCCACGTGAACAAAACTATTGACTTCGCCTATTACCCCTCTTGAGGAAAGAAGTAGGAACAACGGGGGATAGATGACACCCACGTTCCAATGGAGTATTCCGGGATATGACACGGAATCGTCATCTCTATAAAGGTAGAAGTCTGCACCGACAGGCACTTTATGAAAGCCGCGAGTAACAAGCGACTAGCGATTAGAATTGAACAACGGCTTGGCATCGGTTGTACTGACACAACGCAACACCAGAGAGCAAGCGCAGCAAGAGTACGCGCCTTAGACGTATCGCCGGTACGATCACAGACGGTAACATCCACTTTGAAATCAAAGCGGTACAGTCCTCTAGAACAAATAGGAAAGGTTCCGCGAGCGAAAGAACCTCACGATGACACCAACTTTGAAGCCACACAGCCGATGGTTGCGCTTAACGGACAAAGGTAACACGAGATCAACCTATTCAGCATCCAAATGGTCTCATAACCCTATCAGGCCAGAACATGTGTAGGGCGGGTATCAAGCCCAACATTTGTCCGACCACCGGACAAAGTGCACAATAGGTCATAACGACGCAAAGCGTGATTTGTGGTAACCAGCGGCAGTCGGACTATTCCTTCATGCTTTATATCGGAGAAACATAAAATTATTCGCACCCAAATAGCTGAGCAGCGCAGTCCATCTACCCCCTAGCAAAATAAATGTAGCTGGCGAGTGTAGCTTAC\n"
     ]
    }
   ],
   "source": [
    "print(max_seq)"
   ]
  },
  {
   "cell_type": "code",
   "execution_count": 77,
   "metadata": {},
   "outputs": [
    {
     "name": "stdout",
     "output_type": "stream",
     "text": [
      "A: 2 3 3 2 0 2 1 1 4 3 3 4 1 3 2 2 3 2 1 3 3 2 2 2 2 2 0 2 2 5 4 2 0 3 3 2 2 2 5 2 2 3 2 2 3 1 3 2 1 3 3 4 3 3 3 2 2 1 1 4 3 3 4 4 2 4 0 4 4 2 5 1 1 3 1 2 2 3 4 0 2 3 3 3 3 3 0 2 3 2 3 3 3 2 3 2 1 2 0 3 3 3 2 1 3 3 7 4 2 3 3 1 2 0 2 1 0 2 2 2 3 5 1 1 2 2 7 6 4 4 3 3 4 1 2 5 5 3 2 3 3 2 2 2 0 6 2 3 3 1 3 4 3 2 3 1 1 2 4 3 3 4 2 1 2 4 4 0 3 2 0 4 4 4 2 2 3 4 2 3 0 1 4 0 1 3 2 2 1 4 4 4 3 1 3 1 2 4 2 1 5 3 3 2 2 1 1 4 4 4 0 3 1 1 4 1 3 1 3 3 3 7 1 6 5 1 3 1 2 3 1 3 1 2 4 3 6 1 0 1 1 4 4 3 2 1 4 2 2 2 1 3 3 1 4 3 4 4 2 0 6 3 2 1 4 1 1 3 2 1 0 2 1 4 1 1 4 3 1 2 2 1 3 3 2 2 4 1 1 3 3 5 2 3 3 2 0 5 3 1 4 4 1 4 4 1 2 3 2 2 1 6 3 3 3 4 1 2 4 2 4 1 3 2 4 0 2 0 2 1 3 5 4 2 1 0 4 2 2 4 1 0 2 3 3 1 2 3 2 5 2 3 4 2 3 4 2 3 5 4 2 1 1 1 1 4 3 1 0 2 1 5 1 3 3 3 2 0 3 3 3 4 4 2 2 1 2 1 3 4 2 3 1 4 0 6 2 3 2 5 1 2 2 0 4 3 2 7 4 4 2 0 2 1 1 2 3 2 1 4 4 0 3 5 2 1 3 3 1 2 5 2 1 3 7 3 1 6 2 3 5 2 2 1 3 4 1 4 3 3 2 0 1 2 2 1 2 3 5 1 2 2 2 1 3 2 2 4 2 2 0 4 2 3 1 4 5 3 0 2 4 4 2 5 2 2 4 0 5 2 3 2 2 4 5 1 2 2 3 4 0 2 4 3 2 3 3 1 5 2 3 3 3 0 1 3 0 4 3 3 3 2 2 4 1 2 3 1 3 3 2 1 4 3 1 3 3 2 3 0 3 0 4 1 2 1 3 4 5 2 6 3 2 2 3 1 2 2 3 2 5 3 4 2 2 4 6 3 2 1 2 3 2 5 1 4 0 3 2 1 1 1 3 3 3 3 6 2 3 3 3 1 3 1 1 3 3 3 1 2 2 2 3 2 3 2 2 4 3 2 3 3 3 4 1 3 5 1 2 0 1 3 1 0 4 4 2 4 2 4 2 3 3 5 2 1 1 2 2 3 5 0 2 2 5 2 3 2 4 1 2 3 0 3 3 3 2 3 1 2 2 1 3 2 3 5 3 2 1 0 4 2 4 4 3 3 2 2 5 4 1 4 2 2 3 1 4 2 3 3 3 2 1 2 3 2 2 2 3 1 3 5 1 2 1 4 5 5 1 0 1 2 3 3 2 3 1 3 6 2 3 2 2 4 3 1 5 3 2 0 1 4 2 4 5 0 3 0 1 1 0 1 5 0 2 2 1 1 2 2 2 3 2 2 4 4 3 2 2 2 4 3 2 6 1 1 1 2 1 3 0 1 3 0 3 4 0 2 1 3 3 0 4 3 4 1 1 2 2 4 2 3 3 2 3 2 0 2 2 4 3 3 4 1 3 3 3 1 3 4 3 3 2 0 0 1 2 4 0 2 1 2 1 1 1 2 3 4 2 1 3 1 2 1 3 2 4 2 2 0 2 2 4 1 3 4 3 2 3 2 3 1 2 5 2 3 1 2 1 1 3 0 4 0 2 2 3 4 1 3 4 4 3 4 0 6 3 4 7 1 2 3 2 1 3 2 3 4 1 0 2 3 3 4 3 3 2 0 3 2 4 1 3 5 0 2 2 2 4 2 2 3 1 4 3 1 1 4 0 2 1 3 3 1 5 0 3 4 3 5 5 2 3 4 3 1 1 2 4 0 2 1 2 1 1 2 4 3 2 2 3 4 1 1 4 2 5 1\n",
      "C: 3 3 2 5 4 4 4 1 1 1 2 1 2 3 3 4 3 0 2 3 4 3 4 3 3 3 2 2 4 3 3 2 5 4 0 1 4 1 2 3 1 2 3 3 2 3 0 3 5 1 2 3 2 2 2 5 2 3 0 0 3 3 2 2 0 1 5 1 1 6 3 3 3 1 1 4 4 0 2 7 1 3 2 2 3 0 4 3 3 2 2 1 2 4 1 2 2 1 3 3 2 1 1 1 4 0 1 0 1 2 1 2 4 4 1 3 1 5 3 3 2 1 2 3 3 3 0 2 5 1 3 4 2 2 1 3 1 2 2 3 0 4 0 4 3 1 0 1 3 3 4 3 3 2 2 3 4 6 2 3 4 2 2 2 3 3 3 2 1 3 5 2 0 1 3 1 0 2 4 3 1 3 2 5 1 4 2 2 4 1 3 1 3 4 1 2 2 4 2 2 3 3 4 0 2 4 2 3 1 1 4 3 4 2 2 4 2 3 2 3 3 2 3 0 0 3 2 3 3 2 2 1 2 1 3 1 2 2 5 1 1 3 0 1 4 3 0 4 2 1 2 1 3 4 2 2 2 4 4 3 2 1 1 1 1 5 3 0 4 2 4 4 3 1 2 2 4 4 4 3 3 3 4 2 1 2 2 2 2 3 3 1 2 2 2 2 2 1 1 2 2 3 5 2 3 5 2 0 2 2 3 2 0 3 1 3 1 2 0 3 1 4 4 4 2 7 2 1 2 4 4 2 2 0 1 0 2 2 3 2 3 3 5 4 1 2 0 2 3 1 1 1 2 4 2 5 1 3 0 3 1 4 3 2 6 3 0 4 3 4 3 0 2 3 2 3 3 3 1 2 0 3 3 2 2 4 2 3 4 1 4 5 2 2 4 0 1 0 5 1 3 1 1 3 1 0 2 1 1 1 3 6 4 2 6 2 2 2 3 2 3 4 3 3 2 5 1 3 7 2 3 1 4 3 1 2 0 1 3 3 2 1 2 0 2 4 3 2 2 4 3 3 4 2 2 3 2 4 3 3 3 3 2 3 3 1 1 3 4 1 3 3 3 2 6 3 1 4 2 5 0 0 3 1 3 3 2 3 2 3 1 2 5 3 2 2 5 1 4 2 2 6 2 2 2 2 2 3 1 4 1 6 1 4 4 2 3 2 3 2 4 1 1 1 2 5 1 3 4 2 2 3 3 4 0 3 1 4 2 5 3 1 0 5 0 2 3 2 3 5 3 0 4 3 3 5 1 1 1 3 1 3 0 2 3 3 2 2 2 4 2 3 3 1 4 3 0 2 3 4 2 4 0 2 2 3 2 5 3 2 3 1 2 1 4 3 3 3 2 2 1 2 4 5 1 4 2 4 2 3 2 2 1 3 3 3 0 5 4 2 4 3 4 2 0 1 1 3 3 2 5 4 1 1 3 2 4 1 2 1 1 1 3 4 2 3 2 3 0 0 3 5 1 3 3 0 3 2 4 0 3 4 4 2 1 1 3 4 3 1 1 4 2 3 3 2 2 3 1 1 5 1 3 2 1 2 4 1 4 2 3 4 5 1 3 2 2 4 1 1 4 0 2 3 6 4 3 0 3 3 0 3 5 1 4 3 3 3 3 4 4 5 2 2 2 4 1 2 1 4 4 1 2 1 2 4 3 4 2 3 3 3 2 2 2 1 5 1 2 2 3 2 3 3 0 3 0 3 3 4 2 3 5 1 3 2 2 2 1 4 4 2 2 6 4 3 4 5 4 2 1 5 1 2 3 1 3 2 3 0 3 3 2 1 2 1 2 2 4 1 2 3 4 3 2 2 4 2 4 2 3 2 2 5 2 3 3 4 3 3 1 2 2 1 1 3 2 2 3 4 2 3 7 2 2 4 3 2 3 7 2 2 3 4 2 2 2 0 4 4 1 1 3 2 3 1 4 2 3 3 3 3 1 3 5 3 2 3 1 2 1 1 4 3 3 0 3 3 1 2 3 2 2 2 5 2 4 3 4 4 3 2 2 2 1 2 2 4 3 2 1 3 4 0 2 4 2 3 1 2 2 4 4 2 1 5 3 2 6 5 3 4 5 3 0 1 4 3 2 2 0 1 2 2 3 1 3 1 1 2 4 2 3 2 4 2 0 0 2 0 1 1 2 3 0 1 1 4\n",
      "G: 4 3 1 2 4 1 3 1 2 2 2 5 6 3 3 4 2 2 3 2 2 3 3 3 4 1 5 1 2 1 2 2 3 1 2 4 1 1 3 2 3 3 3 3 3 4 2 3 3 4 4 3 1 2 3 2 3 5 4 3 4 1 2 2 5 1 3 2 3 1 2 4 2 3 1 3 2 4 0 0 1 3 1 3 3 3 3 5 3 2 4 4 3 3 5 2 2 4 3 3 3 1 5 6 2 4 1 2 3 2 3 5 4 3 4 4 2 2 1 3 2 2 3 4 4 2 1 2 1 2 2 0 0 3 2 0 1 2 4 3 3 2 2 2 2 1 4 5 4 5 2 0 1 3 4 4 2 2 3 1 3 3 1 4 2 3 2 6 1 3 3 3 4 4 2 4 1 2 3 3 5 4 2 4 5 2 3 2 2 2 1 2 2 3 2 4 3 1 2 3 2 3 1 6 4 2 3 0 3 2 3 3 3 4 1 3 3 3 1 1 2 0 3 2 4 2 3 3 3 4 4 6 2 5 1 2 1 3 1 3 5 2 3 4 1 3 3 3 3 3 4 3 2 4 1 3 1 0 2 3 1 1 3 5 3 2 2 1 2 4 4 2 1 1 2 2 0 2 1 3 2 2 2 1 2 3 1 4 4 1 2 3 5 2 3 3 1 0 4 4 1 1 2 2 1 3 4 5 6 4 6 0 3 2 4 0 3 4 3 2 3 2 1 2 3 2 4 3 2 4 2 2 0 3 5 6 2 4 1 4 2 1 1 1 4 5 7 3 1 2 2 4 2 2 3 0 4 4 0 1 3 3 4 3 1 2 2 2 3 3 2 3 3 2 3 2 4 4 2 2 7 2 3 4 2 3 2 4 1 3 3 2 4 0 3 2 4 6 2 3 3 1 2 3 1 3 5 1 2 2 4 2 1 5 2 3 3 4 2 1 2 2 3 0 4 3 4 3 1 2 2 4 3 4 0 1 4 2 4 2 1 1 1 5 2 1 3 2 3 1 4 6 3 2 2 6 4 1 1 2 3 4 3 1 0 4 3 1 3 2 5 0 3 3 2 1 2 1 5 2 4 3 3 2 3 3 1 5 2 4 3 5 2 2 1 4 3 5 0 3 6 1 2 3 4 2 4 1 3 3 4 1 4 2 3 1 3 2 4 2 2 4 3 2 2 2 5 3 1 4 3 2 3 1 6 2 2 3 3 3 2 5 3 1 5 5 0 2 0 2 0 3 1 2 2 2 2 2 2 4 2 3 2 1 2 2 1 3 4 3 5 4 0 2 1 1 6 0 2 3 2 2 2 2 4 1 0 3 1 2 2 2 2 8 5 2 3 1 5 3 3 2 2 2 4 0 3 2 4 2 4 3 3 2 4 1 2 3 2 1 3 3 3 6 2 0 4 1 2 1 2 2 3 2 3 2 0 2 3 3 2 7 3 2 2 3 3 3 3 5 2 1 5 3 0 6 4 1 0 5 2 5 0 1 1 1 1 1 4 5 3 2 3 2 1 4 5 1 2 3 2 3 2 4 3 4 2 3 3 3 3 4 1 3 3 1 2 3 3 5 2 3 2 3 2 1 1 2 2 5 5 1 2 1 3 2 1 2 1 2 2 3 1 1 1 3 2 4 5 4 1 4 4 3 2 3 2 1 5 2 4 2 2 6 3 4 2 6 3 5 1 2 1 2 2 0 4 2 3 2 1 1 0 2 2 2 2 4 2 3 2 4 3 0 2 1 3 0 5 4 3 1 1 3 1 6 1 3 3 4 2 2 3 1 3 5 5 2 3 4 1 3 0 3 4 3 1 4 1 1 1 3 5 3 5 1 5 0 1 1 3 3 3 5 5 1 2 0 2 1 2 4 0 4 4 2 0 6 0 3 4 4 1 4 0 3 1 2 2 2 1 2 3 2 1 6 4 0 2 2 2 3 3 3 2 4 4 1 6 2 3 3 1 1 2 3 1 1 1 3 1 3 1 2 1 5 0 1 4 3 3 2 3 1 2 2 3 4 0 3 4 4 1 0 4 2 4 3 3 4 2 2 4 2 2 1 1 2 3 1 3 2 2 2 2 6 2 3 3 3 2 3 2 2 1 2 4 3 3 4 3 1 5 5 2 5 4 5 2 5 2 2 4 3 0 3 2 2\n",
      "T: 1 1 4 1 2 3 2 7 3 4 3 0 1 1 2 0 2 6 4 2 1 2 1 2 1 4 3 5 2 1 1 4 2 2 5 3 3 6 0 3 4 2 2 2 2 2 5 2 1 2 1 0 4 3 2 1 3 1 5 3 0 3 2 2 3 4 2 3 2 1 0 2 4 3 7 1 2 3 4 3 6 1 4 2 1 4 3 0 1 4 1 2 2 1 1 4 5 3 4 1 2 5 2 2 1 3 1 4 4 3 3 2 0 3 3 2 7 1 4 2 3 2 4 2 1 3 2 0 0 3 2 3 4 4 5 2 3 3 2 1 4 2 6 2 5 2 4 1 0 1 1 3 3 3 1 2 3 0 1 3 0 1 5 3 3 0 1 2 5 2 2 1 2 1 3 3 6 2 1 1 4 2 2 1 3 1 3 4 3 3 2 3 2 2 4 3 3 1 4 4 0 1 2 2 2 3 4 3 2 3 3 1 2 3 3 2 2 3 4 3 2 1 3 2 1 4 2 3 2 1 3 0 5 2 2 4 1 4 4 5 3 1 3 2 3 3 3 1 3 4 3 3 2 1 3 2 3 2 2 4 1 5 4 3 2 2 4 6 2 3 2 2 5 4 5 5 2 1 4 2 3 4 1 4 5 3 3 3 3 3 2 1 1 3 2 3 7 4 2 3 3 2 2 2 2 1 2 2 0 2 0 2 4 2 2 3 5 2 3 3 2 3 2 2 1 1 2 6 4 1 1 1 4 5 3 4 2 2 4 0 4 6 2 2 2 2 1 2 4 2 5 2 2 2 2 1 3 0 5 2 4 2 2 4 2 1 5 3 4 1 4 2 4 2 2 2 1 3 4 3 0 1 0 2 4 2 4 2 2 2 1 0 3 4 3 2 3 1 1 1 3 6 5 4 4 4 1 1 3 3 1 2 3 2 1 3 2 2 4 3 1 4 1 2 2 1 2 1 1 4 0 3 2 0 2 4 5 1 1 2 2 6 5 4 3 1 3 2 2 2 1 1 2 4 4 0 2 2 1 4 2 1 3 5 4 3 4 2 1 5 2 3 2 2 1 2 2 2 3 1 2 3 2 2 2 2 3 2 1 1 3 1 1 1 2 3 0 2 3 1 2 1 2 2 2 3 1 5 1 1 2 0 2 4 2 4 4 2 0 3 1 3 4 3 5 1 1 3 2 1 3 4 0 2 3 2 4 1 2 2 2 4 3 3 3 2 4 2 2 1 1 4 3 3 2 2 5 5 4 1 2 1 4 5 3 1 1 2 2 2 1 0 5 2 4 2 4 5 3 2 5 3 5 3 1 3 2 0 3 3 2 6 3 0 0 2 1 3 2 3 4 4 1 1 2 4 3 0 1 3 1 2 3 1 2 3 3 1 2 7 2 1 2 2 4 5 3 2 3 3 1 1 3 2 2 5 5 5 3 3 2 2 2 2 1 2 2 2 3 4 3 1 4 1 4 1 1 4 5 3 3 0 3 5 5 3 3 3 2 4 2 2 1 1 3 1 1 4 2 2 2 2 3 2 3 3 0 4 0 2 1 0 3 4 1 5 4 1 3 3 1 2 5 2 1 1 1 3 4 2 4 4 0 5 1 2 5 2 0 2 1 0 5 3 4 2 2 1 2 2 4 1 2 2 1 3 2 5 2 4 3 4 1 2 3 3 2 2 3 1 4 3 4 3 4 3 3 3 2 2 3 3 3 1 4 5 5 2 6 0 4 3 2 4 1 2 3 3 0 1 3 4 4 2 2 2 5 3 2 2 3 2 2 6 2 2 3 4 1 1 4 1 2 3 1 2 2 3 2 3 3 2 1 2 3 5 0 2 6 4 5 3 4 3 3 4 3 4 3 4 3 2 1 3 1 2 3 0 5 0 2 2 2 1 5 1 4 6 1 2 5 6 2 1 4 0 1 6 4 4 2 4 2 4 1 1 1 2 2 3 2 2 2 2 5 1 3 2 1 4 4 2 5 5 1 1 3 2 1 3 2 3 2 3 4 3 3 2 4 3 1 2 2 5 4 2 2 2 2 2 4 1 1 2 4 3 5 2 1 2 3 1 0 4 3 3 1 0 2 0 3 4 3 2 3 6 2 4 2 4 1 6 0 2 3 1 2 2 4 3 4 3 3 3 6 4 2 3\n"
     ]
    }
   ],
   "source": [
    "for k,v in dic.items():\n",
    "    print(f\"{k}: {\" \".join([str(i) for i in v])}\")"
   ]
  },
  {
   "cell_type": "code",
   "execution_count": null,
   "metadata": {},
   "outputs": [],
   "source": []
  }
 ],
 "metadata": {
  "kernelspec": {
   "display_name": "Python 3",
   "language": "python",
   "name": "python3"
  },
  "language_info": {
   "codemirror_mode": {
    "name": "ipython",
    "version": 3
   },
   "file_extension": ".py",
   "mimetype": "text/x-python",
   "name": "python",
   "nbconvert_exporter": "python",
   "pygments_lexer": "ipython3",
   "version": "3.12.1"
  }
 },
 "nbformat": 4,
 "nbformat_minor": 2
}
