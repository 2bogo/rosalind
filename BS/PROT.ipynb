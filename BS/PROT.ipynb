{
 "cells": [
  {
   "cell_type": "markdown",
   "metadata": {},
   "source": [
    "The 20 commonly occurring amino acids are abbreviated by using 20 letters from the English alphabet (all letters except for B, J, O, U, X, and Z). Protein strings are constructed from these 20 symbols. Henceforth, the term genetic string will incorporate protein strings along with DNA strings and RNA strings.\n",
    "\n",
    "The RNA codon table dictates the details regarding the encoding of specific codons into the amino acid alphabet.\n",
    "\n",
    "Given: An RNA string s corresponding to a strand of mRNA (of length at most 10 kbp).\n",
    "\n",
    "Return: The protein string encoded by s.\n"
   ]
  },
  {
   "cell_type": "code",
   "execution_count": 3,
   "metadata": {},
   "outputs": [],
   "source": [
    "dic_codon = {\n",
    "    \"UUU\": \"F\",\n",
    "    \"CUU\": \"L\",\n",
    "    \"AUU\": \"I\",\n",
    "    \"GUU\": \"V\",\n",
    "    \"UUC\": \"F\",\n",
    "    \"CUC\": \"L\",\n",
    "    \"AUC\": \"I\",\n",
    "    \"GUC\": \"V\",\n",
    "    \"UUA\": \"L\",\n",
    "    \"CUA\": \"L\",\n",
    "    \"AUA\": \"I\",\n",
    "    \"GUA\": \"V\",\n",
    "    \"UUG\": \"L\",\n",
    "    \"CUG\": \"L\",\n",
    "    \"AUG\": \"M\",\n",
    "    \"GUG\": \"V\",\n",
    "    \"UCU\": \"S\",\n",
    "    \"CCU\": \"P\",\n",
    "    \"ACU\": \"T\",\n",
    "    \"GCU\": \"A\",\n",
    "    \"UCC\": \"S\",\n",
    "    \"CCC\": \"P\",\n",
    "    \"ACC\": \"T\",\n",
    "    \"GCC\": \"A\",\n",
    "    \"UCA\": \"S\",\n",
    "    \"CCA\": \"P\",\n",
    "    \"ACA\": \"T\",\n",
    "    \"GCA\": \"A\",\n",
    "    \"UCG\": \"S\",\n",
    "    \"CCG\": \"P\",\n",
    "    \"ACG\": \"T\",\n",
    "    \"GCG\": \"A\",\n",
    "    \"UAU\": \"Y\",\n",
    "    \"CAU\": \"H\",\n",
    "    \"AAU\": \"N\",\n",
    "    \"GAU\": \"D\",\n",
    "    \"UAC\": \"Y\",\n",
    "    \"CAC\": \"H\",\n",
    "    \"AAC\": \"N\",\n",
    "    \"GAC\": \"D\",\n",
    "    \"UAA\": \"Stop\",\n",
    "    \"CAA\": \"Q\",\n",
    "    \"AAA\": \"K\",\n",
    "    \"GAA\": \"E\",\n",
    "    \"UAG\": \"Stop\",\n",
    "    \"CAG\": \"Q\",\n",
    "    \"AAG\": \"K\",\n",
    "    \"GAG\": \"E\",\n",
    "    \"UGU\": \"C\",\n",
    "    \"CGU\": \"R\",\n",
    "    \"AGU\": \"S\",\n",
    "    \"GGU\": \"G\",\n",
    "    \"UGC\": \"C\",\n",
    "    \"CGC\": \"R\",\n",
    "    \"AGC\": \"S\",\n",
    "    \"GGC\": \"G\",\n",
    "    \"UGA\": \"Stop\",\n",
    "    \"CGA\": \"R\",\n",
    "    \"AGA\": \"R\",\n",
    "    \"GGA\": \"G\",\n",
    "    \"UGG\": \"W\",\n",
    "    \"CGG\": \"R\",\n",
    "    \"AGG\": \"R\",\n",
    "    \"GGG\": \"G\",\n",
    "}"
   ]
  },
  {
   "cell_type": "code",
   "execution_count": 14,
   "metadata": {},
   "outputs": [],
   "source": [
    "def rna2codon(seq):\n",
    "    codon = \"\"\n",
    "    for i in range(len(seq) // 3):\n",
    "        add_codon = dic_codon[seq[i * 3 : i * 3 + 3]]\n",
    "        if add_codon == \"Stop\":\n",
    "            break\n",
    "        else:\n",
    "            codon += add_codon\n",
    "    return codon"
   ]
  },
  {
   "cell_type": "code",
   "execution_count": 12,
   "metadata": {},
   "outputs": [],
   "source": [
    "seq = open(\"input/rosalind_prot.txt\").read()"
   ]
  },
  {
   "cell_type": "code",
   "execution_count": 15,
   "metadata": {},
   "outputs": [
    {
     "data": {
      "text/plain": [
       "'MLLHRCNLTNCHLSKRHRLGYCYIHVSRKTFLNQLPMADLYIVYRGRLTLPSIIFWIPRDLDQPTFVRRLVHATHSNYGFGANGISLNAMTVLEGYAQQAPSYTVAMGTLGATALYKFGWVCAHSRLGHHTGQASFAWDGIRLTSSLNGSHHQTCYGNLACKRCGGACFSSWVEYLTNGSRMITKTDAWYYYQPRASWQKPKFLMSGDFKSSESPASHHRTNASKDSVQSILTTMTCTVQRTRTWPPRNGATARVPNRMSAEVFSHTGAYASLIPRSGVAYLDSCSQVTRDFSRQLATGYRGQHNSYGWPSFSVQIPPHSPPEVETGAELLTGAPINWNQSKRPCSRYVMALKQVSLGYCADSEDSTLSIRVQFRRTFFQIWLIFTGWMGARCISSSWSGSDSPALSRKSEALSWDEAESTSMGRQEPKVSARKLSFAYRTANYSKEMSNILVDLPNLLDKHQDNFSSAWSTRPSGFGGAHTGANFSEGSLGLAAERWAPPAGGRCASARCGVGDTVWRYTLPRHDASPGNPQRPTEILLRYQQVTLAESYTERRFPAYSLEIGTRDCTAACLYGILEKSSLLLTGGSSVEAASGLIGGENLLDGCGLLSLPALILVCQLEERSRLHSQSVRCVCCNAARVYRQNTPSSLGGQAPTMHDNSSPYCGVAQQALRHSLVCLIFALIILTEYLESVTLGYHWGANLQDSRRIVPAPQIILTNDHSGGREDATVTREIGLQGCFSGAIVDVYKIDDSRFIGVPPGEPGNSPKSSDHDAPRLVYSVLTGTNFYDILPRAGVPKKLFNQFFCPPKVTGRPEVYTSLIGFPGSSGCQYICIIMDGALPPFLLWTQLGKLHAGITIPRPHIRPNSFSYPGTGTSVGPILCSCRSSIYRHHTPIPQPSSSSQSYTMVQLRSQLDCALQLAISSALCRERWLDSHFYQAEVRNLRRAGADRVRLWWIRLHLYHLVKTGGCLELPHCDARTGNFRAITRQSWPRRSDRVHEYEWMVCQDLKVGLLRNVIAANPFNPNKLLGYAIRQGRTERARLAAVIRLPGSPYRAIRGVEVSCRKSVFSHRYNMRAIDKKEQILRSVFPSLRKKSLVDTEGVSSRLQTRRRGPSRRWACTDDGALPPYHASSILLGMVTRNSRCFKQGDNLHATPGGNSDYYGVRDNPCSWPDKKSIFESRTRIVNKPSTVSWRDLLLQSLILWREHGPASIPPTFCTTGPLVAYAVLKFSPPSRYAPNLVPNGLFPHISRGARRRSHSSLGRTYPLRRWSKKSRRLGGSPRKISYCSRSDMFYNILSGRFSLNRLERHYVCPEELTKDSGTGLHSCVAENQIDADTPGCGGPHRQTGNVWSSKAVRTNTSHARFVGGDHGIYPGGGLYRTKNRRMAYPLRTGLSGFANSAAESCQSDRAGLTLYENSSVLQTDAITIDEASQLKRIISGRLGKPKLQTSHLSNRVSLRTAPSSRGSRAGLVGYAYSTSSLHPSNTRVLLRMHYIYSAQLVPVVGSPDRPVCRPNASAQNTRTLDGVTIVQAEVADGPQVYSWSLKPAPAAVKDTTPTLSDVLTLRRQLNTRTRVQRCLMVTARKDELTLLFCGYSYYRHADIWTLSNIMQPSGPAVPRTGPRAGLLIYETGKLPYTYELAISLRLMFYPGERIWKGTKMGRSILTRWGVGRKVGYIWPMTIPSYVPFAGLPRKNDCCKPCTPWLKCYLDISGWKVTRRLRSGRILSIRVAQLILRLPFLLGYSIRQRESHHTMDSETSSGYNLEAALFRRASRCPLLMRQPYLHPGASWKNAARSSLNTIEREYSGFLIKVRCLFRFATARPRRGVTARAPTLGELTFVPLPATLRGINQAAEAGRARSSLGRNSRLSARASDADGRCTLCRVILATEVRGLQIKTVISWGFDHPRMEGPPLVHDRDLPFTTDTSLTQNPPRGEVARPTRNVLPQNYDAEFMVTRTGAMVMHAYPNDQLEGREGWKHPWSFLHLAGKRCSAARIHPLLSLRALMNVNTAGPPADKPLIGFDLTPFSDMTAMTGAQCLYQAQTLVYLGLKTRLKVQTLPRSPSHFRLHYRAQGSVVVSNASARRGIEYNGPGVVGPTTRILIYLQEANGLMIWSGQIACAKKYHIPRAGRFLCVLEMETHHASVFAAVHYVFARTDAIPGCGLVAGPPHYTLKPYRCTMPDSPLFQRTTVHKSRPACRGRHKRNIFDLLVNSGLTSVTAMKLTQAPSSFSQQWMTNVANLEHSGITLFTGGLQRGLPARRRRVLGRLCVRLFASSAIPTLQPIRGDVMYKCLGNFTYLAGFLNCEIGFENMMFRSLIHSIWDRTTNEVTQRHAPINLLGGSLASSVPKVRRGWTAVKLGRSHRRFFQRNLWPGSLRFYPQLYNRAGVAGTYDVCEPREREGLLHRMEATAVVTGDNGDFYLVQYRGVMALQPLERKTHTHGSSGVSHWTAFHIALPSVALLLTYEPATMDHLVSSLFLRTVTLTGLAIALVLLSVNPRPSAVLRASATGITAIQGSIVSFLATEKIAPARPTLDSNRPQRPIRRPYLFGSRHDKPVLASLICNQRPTSPKTMLISGPGCNHGTLRLDLCAPLRHASGLTTYLHGPWLASWSGPRSYKGSPQSDLNPPARRDLCVADRRTKVHQSLMHARYQLYRRTPRICTSGLNTSNPLSQNFWTLSSQSIREEHLSEWCIRHAGPTNASSQASCGVSMSHHTVLAQHTLKFLIFQYGVLPKTQPLRSVCGRRCFYTETSLRLLHITRASAQRPSPLTCQPLVCLTQITCKRESHFIVSDFSCAMIIVAVQCPSERTMNAMGWRRWFASKKQAVMPTTKWVRLTIAVRLPSGLYRLRLSPSVPHPGLDTNWANDALPSLSAYVPSAGVAKAHNSPQADLSPIEIRGVVHGITDARALDSRAELFGNCESSWLARVVLVSSLYITCPYTRIETVELFTKCGHPPWRQFLGVRGLVWSMRYSSPRHPLGLLGTPWKRSNRGPPVSARIWSYPLRQTRGNLLAHPVKISIQVTSTNRRSPHYCSSRPAPPKSTYEPGMYGFLKRATLNQHSTWDRSRPAAVHEVRRG'"
      ]
     },
     "execution_count": 15,
     "metadata": {},
     "output_type": "execute_result"
    }
   ],
   "source": [
    "rna2codon(seq)"
   ]
  },
  {
   "cell_type": "code",
   "execution_count": null,
   "metadata": {},
   "outputs": [],
   "source": []
  }
 ],
 "metadata": {
  "kernelspec": {
   "display_name": "Python 3",
   "language": "python",
   "name": "python3"
  },
  "language_info": {
   "codemirror_mode": {
    "name": "ipython",
    "version": 3
   },
   "file_extension": ".py",
   "mimetype": "text/x-python",
   "name": "python",
   "nbconvert_exporter": "python",
   "pygments_lexer": "ipython3",
   "version": "3.11.6"
  }
 },
 "nbformat": 4,
 "nbformat_minor": 2
}
